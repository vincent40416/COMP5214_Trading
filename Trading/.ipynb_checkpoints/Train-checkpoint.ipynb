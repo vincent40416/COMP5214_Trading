{
 "cells": [
  {
   "cell_type": "code",
   "execution_count": null,
   "metadata": {},
   "outputs": [],
   "source": [
    "import json\n",
    "import pandas as pd\n",
    "import torch\n",
    "from torch import nn\n",
    "import torch.optim as optim\n",
    "from tqdm import tqdm, trange\n",
    "from transformers import AutoModel, AutoTokenizer\n",
    "from torch.optim.lr_scheduler import MultiplicativeLR\n",
    "import matplotlib.pyplot as plt\n",
    "\n",
    "\n"
   ]
  },
  {
   "cell_type": "code",
   "execution_count": null,
   "metadata": {},
   "outputs": [],
   "source": [
    "Load_transformer\n",
    "print('Loading transformers...')\n",
    "transformer_tag = \"activebus/BERT-DK_rest\"\n",
    "tokenizer = AutoTokenizer.from_pretrained(transformer_tag)\n",
    "transformer = AutoModel.from_pretrained(transformer_tag, add_pooling_layer=False)\n",
    "transformer.to(device)\n"
   ]
  },
  {
   "cell_type": "code",
   "execution_count": null,
   "metadata": {},
   "outputs": [],
   "source": [
    "def load_data(split_name='train'):\n",
    "    print('Loading {} data...'.format(split_name))\n",
    "    df = pd.read_csv(data_dir + f'data_2021_spring/{split_name}.csv')\n",
    "    return df\n",
    "train_df = load_data('train')\n",
    "valid_df = load_data('valid')\n",
    "num_train_batches = (len(train_df) + batch_size - 1) // batch_size\n",
    "num_valid_batches = (len(valid_df) + batch_size - 1) // batch_size\n",
    "\n",
    "news = pd.read_csv(\"../Combined_News_DJIA.csv\")"
   ]
  }
 ],
 "metadata": {
  "kernelspec": {
   "display_name": "Python 3",
   "language": "python",
   "name": "python3"
  },
  "language_info": {
   "codemirror_mode": {
    "name": "ipython",
    "version": 3
   },
   "file_extension": ".py",
   "mimetype": "text/x-python",
   "name": "python",
   "nbconvert_exporter": "python",
   "pygments_lexer": "ipython3",
   "version": "3.5.5"
  }
 },
 "nbformat": 4,
 "nbformat_minor": 2
}
